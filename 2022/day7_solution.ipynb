{
 "cells": [
  {
   "attachments": {},
   "cell_type": "markdown",
   "metadata": {},
   "source": [
    "[Advent of Code 2022 - Day 7](https://adventofcode.com/2022/day/7)\n",
    "\n",
    "**Assumption:** No file / folder is named `size` (true for this puzzle input)."
   ]
  },
  {
   "cell_type": "code",
   "execution_count": null,
   "metadata": {},
   "outputs": [],
   "source": [
    "# Reading all puzzle input lines...\n",
    "with open('day7_input.txt') as f:\n",
    "    lines = f.readlines()"
   ]
  },
  {
   "attachments": {},
   "cell_type": "markdown",
   "metadata": {},
   "source": [
    "The puzzle input is analyzed here to produce 2 outputs:\n",
    "* `file_tree` (`dict`): A *virtual file tree* where each folder is represented by its size (`int`) and children / sub-tree (`dict`).\n",
    "* `file_flat` (`dict`): A flattened version of `file_tree`, where each key, value represent `file_or_folder_path` and total `size`."
   ]
  },
  {
   "cell_type": "code",
   "execution_count": null,
   "metadata": {},
   "outputs": [],
   "source": [
    "file_flat = {}                                                 # { folder_name: { 'size': size },    file_path: size_int }\n",
    "file_tree = { '/': { '..': None, 'size': 0 } }                 # { folder_name: {...folder-tree...}, file_name: size_int }\n",
    "cwd, pwd = file_tree, ''\n",
    "i = 0\n",
    "while i < len(lines):\n",
    "    command = lines[i].removeprefix('$ ')\n",
    "    print(i, 'COMMAND:', command)\n",
    "    i += 1\n",
    "    if command == 'ls':\n",
    "        while i < len(lines):\n",
    "            if lines[i].startswith('$ '):\n",
    "                break\n",
    "            print(i, 'DIR LISTING:', lines[i])\n",
    "            description, name = lines[i].split()\n",
    "            i += 1\n",
    "            if description == 'dir':\n",
    "                file_flat[pwd + '/' + name] = cwd[name] = { '..': cwd, 'size': 0 }\n",
    "            else:\n",
    "                size = int(description)\n",
    "                file_flat[pwd + '/' + name] = cwd[name] = size\n",
    "                folder = cwd\n",
    "                while folder is not None:\n",
    "                    folder['size'] += size\n",
    "                    folder = folder['..']\n",
    "    else:            \n",
    "        folder_name = command.removeprefix('cd ')\n",
    "        cwd = cwd[folder_name]\n",
    "        if folder_name == '..':\n",
    "            pwd = pwd.rpartition('/')[0]\n",
    "        else:\n",
    "            pwd += '/' + folder_name"
   ]
  },
  {
   "attachments": {},
   "cell_type": "markdown",
   "metadata": {},
   "source": [
    "Converting `file_flat` to a Pandas `DataFrame` for analysis..."
   ]
  },
  {
   "cell_type": "code",
   "execution_count": 45,
   "metadata": {},
   "outputs": [
    {
     "data": {
      "text/html": [
       "<div>\n",
       "<style scoped>\n",
       "    .dataframe tbody tr th:only-of-type {\n",
       "        vertical-align: middle;\n",
       "    }\n",
       "\n",
       "    .dataframe tbody tr th {\n",
       "        vertical-align: top;\n",
       "    }\n",
       "\n",
       "    .dataframe thead th {\n",
       "        text-align: right;\n",
       "    }\n",
       "</style>\n",
       "<table border=\"1\" class=\"dataframe\">\n",
       "  <thead>\n",
       "    <tr style=\"text-align: right;\">\n",
       "      <th></th>\n",
       "      <th>name</th>\n",
       "      <th>type</th>\n",
       "      <th>size</th>\n",
       "    </tr>\n",
       "  </thead>\n",
       "  <tbody>\n",
       "    <tr>\n",
       "      <th>0</th>\n",
       "      <td>///cgw</td>\n",
       "      <td>folder</td>\n",
       "      <td>1994012</td>\n",
       "    </tr>\n",
       "    <tr>\n",
       "      <th>1</th>\n",
       "      <td>///fbhz</td>\n",
       "      <td>folder</td>\n",
       "      <td>31535668</td>\n",
       "    </tr>\n",
       "    <tr>\n",
       "      <th>2</th>\n",
       "      <td>///lvrzvt</td>\n",
       "      <td>folder</td>\n",
       "      <td>1447647</td>\n",
       "    </tr>\n",
       "    <tr>\n",
       "      <th>3</th>\n",
       "      <td>///vngq</td>\n",
       "      <td>file</td>\n",
       "      <td>224312</td>\n",
       "    </tr>\n",
       "    <tr>\n",
       "      <th>4</th>\n",
       "      <td>///vwlps</td>\n",
       "      <td>folder</td>\n",
       "      <td>13546432</td>\n",
       "    </tr>\n",
       "    <tr>\n",
       "      <th>...</th>\n",
       "      <td>...</td>\n",
       "      <td>...</td>\n",
       "      <td>...</td>\n",
       "    </tr>\n",
       "    <tr>\n",
       "      <th>454</th>\n",
       "      <td>///vwlps/rfb/mtzbmlnp/ttsjtcc/tjbnz</td>\n",
       "      <td>folder</td>\n",
       "      <td>73261</td>\n",
       "    </tr>\n",
       "    <tr>\n",
       "      <th>455</th>\n",
       "      <td>///vwlps/rfb/mtzbmlnp/ttsjtcc/fbhz/slzn.jls</td>\n",
       "      <td>file</td>\n",
       "      <td>112216</td>\n",
       "    </tr>\n",
       "    <tr>\n",
       "      <th>456</th>\n",
       "      <td>///vwlps/rfb/mtzbmlnp/ttsjtcc/tjbnz/fbhz.wtd</td>\n",
       "      <td>file</td>\n",
       "      <td>73261</td>\n",
       "    </tr>\n",
       "    <tr>\n",
       "      <th>457</th>\n",
       "      <td>///vwlps/rfb/nsq/srvhswd.mcg</td>\n",
       "      <td>file</td>\n",
       "      <td>93689</td>\n",
       "    </tr>\n",
       "    <tr>\n",
       "      <th>458</th>\n",
       "      <td>///vwlps/tjtccqtm/vngq</td>\n",
       "      <td>file</td>\n",
       "      <td>232421</td>\n",
       "    </tr>\n",
       "  </tbody>\n",
       "</table>\n",
       "<p>459 rows × 3 columns</p>\n",
       "</div>"
      ],
      "text/plain": [
       "                                             name    type      size\n",
       "0                                          ///cgw  folder   1994012\n",
       "1                                         ///fbhz  folder  31535668\n",
       "2                                       ///lvrzvt  folder   1447647\n",
       "3                                         ///vngq    file    224312\n",
       "4                                        ///vwlps  folder  13546432\n",
       "..                                            ...     ...       ...\n",
       "454           ///vwlps/rfb/mtzbmlnp/ttsjtcc/tjbnz  folder     73261\n",
       "455   ///vwlps/rfb/mtzbmlnp/ttsjtcc/fbhz/slzn.jls    file    112216\n",
       "456  ///vwlps/rfb/mtzbmlnp/ttsjtcc/tjbnz/fbhz.wtd    file     73261\n",
       "457                  ///vwlps/rfb/nsq/srvhswd.mcg    file     93689\n",
       "458                        ///vwlps/tjtccqtm/vngq    file    232421\n",
       "\n",
       "[459 rows x 3 columns]"
      ]
     },
     "execution_count": 45,
     "metadata": {},
     "output_type": "execute_result"
    }
   ],
   "source": [
    "import pandas as pd\n",
    "df = pd.DataFrame(\n",
    "    {\n",
    "        'name': name,\n",
    "        'type': 'folder' if isinstance(info, dict) else 'file',\n",
    "        'size': info['size'] if isinstance(info, dict) else info\n",
    "    }\n",
    "    for name, info in file_flat.items()\n",
    ")\n",
    "df"
   ]
  },
  {
   "attachments": {},
   "cell_type": "markdown",
   "metadata": {},
   "source": [
    "**Answer to Part 1** -> Sum of sizes of all folders having size at most 100,000"
   ]
  },
  {
   "cell_type": "code",
   "execution_count": 46,
   "metadata": {},
   "outputs": [
    {
     "data": {
      "text/plain": [
       "1315285"
      ]
     },
     "execution_count": 46,
     "metadata": {},
     "output_type": "execute_result"
    }
   ],
   "source": [
    "df[(df['type'] == 'folder') & (df['size'] <= 100_000)]['size'].sum()"
   ]
  },
  {
   "cell_type": "code",
   "execution_count": 47,
   "metadata": {},
   "outputs": [
    {
     "data": {
      "text/plain": [
       "8748071"
      ]
     },
     "execution_count": 47,
     "metadata": {},
     "output_type": "execute_result"
    }
   ],
   "source": [
    "free_space_required = 30_000_000 - 70_000_000 + file_tree['/']['size']\n",
    "free_space_required"
   ]
  },
  {
   "attachments": {},
   "cell_type": "markdown",
   "metadata": {},
   "source": [
    "**Answer to Part 2** -> Size of Smallest folder whose deletion would free up sufficient space"
   ]
  },
  {
   "cell_type": "code",
   "execution_count": 48,
   "metadata": {},
   "outputs": [
    {
     "data": {
      "text/plain": [
       "name    ///fbhz/zhj/dqzgfcd/vwhnlp\n",
       "type                        folder\n",
       "size                       9847279\n",
       "Name: 130, dtype: object"
      ]
     },
     "execution_count": 48,
     "metadata": {},
     "output_type": "execute_result"
    }
   ],
   "source": [
    "df.iloc[df[(df['type'] == 'folder') & (df['size'] >= free_space_required)]['size'].idxmin()]"
   ]
  }
 ],
 "metadata": {
  "kernelspec": {
   "display_name": "Python 3",
   "language": "python",
   "name": "python3"
  },
  "language_info": {
   "codemirror_mode": {
    "name": "ipython",
    "version": 3
   },
   "file_extension": ".py",
   "mimetype": "text/x-python",
   "name": "python",
   "nbconvert_exporter": "python",
   "pygments_lexer": "ipython3",
   "version": "3.10.2"
  },
  "orig_nbformat": 4,
  "vscode": {
   "interpreter": {
    "hash": "fbad60fa31c788f3f5f5ad36cdd88e158167aadb87a1a77fcca841efdd1e1670"
   }
  }
 },
 "nbformat": 4,
 "nbformat_minor": 2
}
